{
 "cells": [
  {
   "cell_type": "code",
   "execution_count": 5,
   "id": "ec8e912e",
   "metadata": {},
   "outputs": [],
   "source": [
    "import sys \n",
    "sys.path.append('..')\n",
    "import json\n",
    "import response_pb2 as pbuff_metric_response\n",
    "import time\n",
    "\n",
    "mock_response = pbuff_metric_response.MetricResponse()"
   ]
  },
  {
   "cell_type": "code",
   "execution_count": 51,
   "id": "cbab9f00",
   "metadata": {},
   "outputs": [
    {
     "name": "stdout",
     "output_type": "stream",
     "text": [
      "0.008339079856872558\n"
     ]
    }
   ],
   "source": [
    "times = []\n",
    "for x in range(1000):\n",
    "    with open(\"20years.json\", \"r\") as f:\n",
    "        s = time.time()\n",
    "        r = json.load(f)\n",
    "        t = (time.time() - s)\n",
    "        times.append(t)\n",
    "print(sum(times)/1000)"
   ]
  },
  {
   "cell_type": "code",
   "execution_count": 66,
   "id": "e8b6175d",
   "metadata": {},
   "outputs": [
    {
     "name": "stdout",
     "output_type": "stream",
     "text": [
      "0.002866994380950928\n"
     ]
    }
   ],
   "source": [
    "times = []\n",
    "for x in range(1000):\n",
    "    with open(\"20years\", \"rb\") as f:\n",
    "        s = time.time()\n",
    "        mock_response.ParseFromString(f.read())\n",
    "        t = (time.time() - s)\n",
    "        times.append(t)\n",
    "print(sum(times)/1000)"
   ]
  },
  {
   "cell_type": "code",
   "execution_count": null,
   "id": "1fb2236f",
   "metadata": {},
   "outputs": [],
   "source": []
  }
 ],
 "metadata": {
  "kernelspec": {
   "display_name": "portfolio-management",
   "language": "python",
   "name": "portfolio-management"
  },
  "language_info": {
   "codemirror_mode": {
    "name": "ipython",
    "version": 3
   },
   "file_extension": ".py",
   "mimetype": "text/x-python",
   "name": "python",
   "nbconvert_exporter": "python",
   "pygments_lexer": "ipython3",
   "version": "3.8.11"
  }
 },
 "nbformat": 4,
 "nbformat_minor": 5
}
